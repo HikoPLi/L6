{
 "cells": [
  {
   "cell_type": "code",
   "execution_count": 24,
   "id": "cad2d490",
   "metadata": {},
   "outputs": [],
   "source": [
    "import requests\n",
    "import os\n",
    "import json\n",
    "import datetime"
   ]
  },
  {
   "cell_type": "code",
   "execution_count": 25,
   "id": "fa39df12",
   "metadata": {},
   "outputs": [],
   "source": [
    "#https://www.hongkongairport.com/flightinfo-rest/rest/flights?span=1&date=2023-03-14&lang=en\n",
    "URL = {\n",
    "    \"PREFIX\": \"https://www.hongkongairport.com/flightinfo-rest/rest/flights?span=1\",\n",
    "    \"DATE\": \"&date=\",\n",
    "    \"CARGO\": \"&cargo=\",\n",
    "    \"ARRIVAL\":\"&arrival=\",\n",
    "    \"LANG\": \"&lang=\",\n",
    "    \"DEFAULT_LANG\": \"en\"\n",
    "}"
   ]
  },
  {
   "cell_type": "code",
   "execution_count": 26,
   "id": "ddb83952",
   "metadata": {},
   "outputs": [],
   "source": [
    "def get_query_date():\n",
    "\n",
    "    user_input = input(\"Please enter the date you want to search (YYYY-MM-DD)\")\n",
    "    \n",
    "    \n",
    "    if user_input == \"\":\n",
    "\n",
    "        ct = datetime.datetime.now()\n",
    "        YYYY = ct.strftime(\"%Y\")\n",
    "        MM = ct.strftime(\"%m\")\n",
    "        DD = ct.strftime(\"%d\")\n",
    "        return f\"{YYYY}-{MM}-{DD}\"\n",
    "\n",
    "    else:\n",
    "        \n",
    "        return user_input"
   ]
  },
  {
   "cell_type": "code",
   "execution_count": 27,
   "id": "f94f4be6",
   "metadata": {},
   "outputs": [
    {
     "name": "stdout",
     "output_type": "stream",
     "text": [
      "QUERY_DATE: 2023-03-23\n"
     ]
    }
   ],
   "source": [
    "QUERY_DATE = get_query_date()\n",
    "print(f\"QUERY_DATE: {QUERY_DATE}\")\n",
    "\n"
   ]
  },
  {
   "cell_type": "code",
   "execution_count": 28,
   "id": "7d3c23a2",
   "metadata": {},
   "outputs": [],
   "source": [
    "QUERY_URLs = {\n",
    "    \"ALL\": URL[\"PREFIX\"] + URL[\"DATE\"] + QUERY_DATE +URL[\"LANG\"] + URL[\"DEFAULT_LANG\"],\n",
    "    \"Cargo\": {\n",
    "        \"Arrival\": URL[\"PREFIX\"] + URL[\"DATE\"] + QUERY_DATE + URL[\"CARGO\"] + \"true\" + URL[\"ARRIVAL\"] + \"true\" + URL[\"LANG\"] + URL[\"DEFAULT_LANG\"],\n",
    "        \"Departure\": URL[\"PREFIX\"] + URL[\"DATE\"] + QUERY_DATE + URL[\"CARGO\"] + \"true\" + URL[\"ARRIVAL\"] + \"false\" + URL[\"LANG\"] + URL[\"DEFAULT_LANG\"]\n",
    "    },\n",
    "    \"Passenger\": {\n",
    "        \"Arrival\": URL[\"PREFIX\"] + URL[\"DATE\"] + QUERY_DATE + URL[\"CARGO\"] + \"false\" + URL[\"ARRIVAL\"] + \"true\" + URL[\"LANG\"] + URL[\"DEFAULT_LANG\"],\n",
    "        \"Departure\":URL[\"PREFIX\"] + URL[\"DATE\"] + QUERY_DATE + URL[\"CARGO\"] + \"false\" + URL[\"ARRIVAL\"] + \"false\" + URL[\"LANG\"] + URL[\"DEFAULT_LANG\"]\n",
    "    }\n",
    "}"
   ]
  },
  {
   "cell_type": "code",
   "execution_count": 29,
   "id": "e09c18db",
   "metadata": {},
   "outputs": [
    {
     "name": "stdout",
     "output_type": "stream",
     "text": [
      "{'ALL': 'https://www.hongkongairport.com/flightinfo-rest/rest/flights?span=1&date=2023-03-23&lang=en', 'Cargo': {'Arrival': 'https://www.hongkongairport.com/flightinfo-rest/rest/flights?span=1&date=2023-03-23&cargo=true&arrival=true&lang=en', 'Departure': 'https://www.hongkongairport.com/flightinfo-rest/rest/flights?span=1&date=2023-03-23&cargo=true&arrival=false&lang=en'}, 'Passenger': {'Arrival': 'https://www.hongkongairport.com/flightinfo-rest/rest/flights?span=1&date=2023-03-23&cargo=false&arrival=true&lang=en', 'Departure': 'https://www.hongkongairport.com/flightinfo-rest/rest/flights?span=1&date=2023-03-23&cargo=false&arrival=false&lang=en'}}\n"
     ]
    }
   ],
   "source": [
    "print(QUERY_URLs)"
   ]
  },
  {
   "cell_type": "code",
   "execution_count": 30,
   "id": "614ade0f",
   "metadata": {},
   "outputs": [],
   "source": [
    "def check_data_length(input_data):\n",
    "\n",
    "    length = len(input_data)\n",
    "\n",
    "    return length"
   ]
  },
  {
   "cell_type": "code",
   "execution_count": 31,
   "id": "de2cb7e9",
   "metadata": {},
   "outputs": [],
   "source": [
    "data = {\n",
    "    \"ALL\": \"\",\n",
    "    \"Cargo\": {\n",
    "        \"Arrival\": \"\",\n",
    "        \"Departure\": \"\"\n",
    "    },\n",
    "    \"Passenger\": {\n",
    "        \"Arrival\": \"\",\n",
    "        \"Departure\": \"\"\n",
    "    }\n",
    "}"
   ]
  },
  {
   "cell_type": "code",
   "execution_count": 32,
   "id": "8dbdad12",
   "metadata": {},
   "outputs": [],
   "source": [
    "def fetch_flight_data(df, url, allData=False, cargo=False, arrival=False ):\n",
    "    # if allData:\n",
    "        print(\"will get all data\")\n",
    "        res = requests.get(url[\"ALL\"])\n",
    "        df[\"ALL\"] = check_data_length(res.json()[0]['list'])\n",
    "    # else:\n",
    "        res = requests.get(url[\"Cargo\"][\"Departure\"])\n",
    "        df[\"Cargo\"][\"Departure\"] = check_data_length(res.json()[0]['list'])\n",
    "        \n",
    "        res = requests.get(url[\"Cargo\"][\"Arrival\"])\n",
    "        df[\"Cargo\"][\"Arrival\"] = check_data_length(res.json()[0]['list'])\n",
    "\n",
    "        res = requests.get(url[\"Passenger\"][\"Departure\"])\n",
    "        df[\"Passenger\"][\"Departure\"] = check_data_length(res.json()[0]['list'])\n",
    "\n",
    "        res = requests.get(url[\"Passenger\"][\"Arrival\"])\n",
    "        df[\"Passenger\"][\"Arrival\"] = check_data_length(res.json()[0]['list'])\n",
    "        \n",
    "        return df"
   ]
  },
  {
   "cell_type": "code",
   "execution_count": 33,
   "id": "dbdac53f",
   "metadata": {},
   "outputs": [],
   "source": [
    "def save_json(input_json):\n",
    "\n",
    "    os.chdir('/Users/lihiko/repo/personal/PolyU/L5')\n",
    "    os.getcwd()\n",
    "\n",
    "    os.getcwd()\n",
    "    os.mkdir('Get_Json_HKIA')\n",
    "    os.chdir('Get_Json_HKIA')\n",
    "    os.getcwd()\n",
    "\n",
    "    json_object = json.dumps(input_json, sort_keys = True, indent = 4)\n",
    "\n",
    "    with open (\"Json_HKIA\", \"w\") as outfile:\n",
    "\n",
    "        outfile.write(json_object)\n",
    "\n",
    "    os.chdir('/Users/lihiko/repo/personal/PolyU/L5')"
   ]
  },
  {
   "cell_type": "code",
   "execution_count": 34,
   "id": "1d8dc89b",
   "metadata": {},
   "outputs": [
    {
     "name": "stdout",
     "output_type": "stream",
     "text": [
      "will get all data\n",
      "{'ALL': 1, 'Cargo': {'Arrival': 1, 'Departure': 7}, 'Passenger': {'Arrival': 205, 'Departure': 2}}\n"
     ]
    }
   ],
   "source": [
    "newDf = fetch_flight_data(data, QUERY_URLs, False)\n",
    "data = newDf\n",
    "\n",
    "print(data)\n",
    "# save_json(data)\n",
    "\n"
   ]
  },
  {
   "cell_type": "code",
   "execution_count": 35,
   "id": "8c275b29",
   "metadata": {},
   "outputs": [],
   "source": [
    "#input dataframe, url, cargo, arrival, allData\n",
    "# def fetch_flight_data(df, url, allData=False, cargo=False, arrival=False ):\n",
    "#     if allData:\n",
    "#         print(\"will get all data\")\n",
    "#         res = requests.get(url[\"ALL\"])\n",
    "#         df[\"ALL\"] = check_data_length(res.json()[0])\n",
    "#     else:\n",
    "#         if cargo:\n",
    "#             if arrival:\n",
    "#                 res = requests.get(url[\"Cargo\"][\"Arrival\"])\n",
    "#                 df[\"Cargo\"][\"Arrival\"] = check_data_length(res.json()[0])\n",
    "#             else:\n",
    "#                 res = requests.get(url[\"Cargo\"][\"Departure\"])\n",
    "#                 df[\"Cargo\"][\"Arrival\"] = check_data_length(res.json()[0])\n",
    "#         else:\n",
    "#             if arrival:\n",
    "#                 res = requests.get(url[\"Passenger\"][\"Arrival\"])\n",
    "#                 df[\"Cargo\"][\"Arrival\"] = check_data_length(res.json()[0])\n",
    "#             else:\n",
    "#                 res = requests.get(url[\"Passenger\"][\"Departure\"])\n",
    "#                 df[\"Cargo\"][\"Arrival\"] = check_data_length(res.json()[0])\n",
    "#     return df"
   ]
  }
 ],
 "metadata": {
  "kernelspec": {
   "display_name": "Python 3",
   "language": "python",
   "name": "python3"
  },
  "language_info": {
   "codemirror_mode": {
    "name": "ipython",
    "version": 3
   },
   "file_extension": ".py",
   "mimetype": "text/x-python",
   "name": "python",
   "nbconvert_exporter": "python",
   "pygments_lexer": "ipython3",
   "version": "3.8.10"
  },
  "vscode": {
   "interpreter": {
    "hash": "00125c6e5922b1d36e973e80bd3f7977debb1f35a6d2102f4b9bdb0261afff1c"
   }
  }
 },
 "nbformat": 4,
 "nbformat_minor": 5
}
