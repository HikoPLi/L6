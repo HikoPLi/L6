{
 "cells": [
  {
   "cell_type": "code",
   "execution_count": 123,
   "metadata": {},
   "outputs": [],
   "source": [
    "import requests\n",
    "import os \n",
    "import json \n",
    "import datetime\n",
    "import os.path\n",
    "from os import path"
   ]
  },
  {
   "cell_type": "code",
   "execution_count": 124,
   "metadata": {},
   "outputs": [],
   "source": [
    "path = \"/Users/lihiko/repo/personal/PolyU/L6_Identity_CuerrentData/\"\n",
    "\n",
    "URL = {\n",
    "    \"PREFIX\": \"https://www.hongkongairport.com/flightinfo-rest/rest/flights?span=1\",\n",
    "    \"DATE\": \"&date=\",\n",
    "    \"CARGO\": \"&cargo=\",\n",
    "    \"ARRIVAL\":\"&arrival=\",\n",
    "    \"LANG\": \"&lang=\",\n",
    "    \"DEFAULT_LANG\": \"en\"\n",
    "}"
   ]
  },
  {
   "cell_type": "code",
   "execution_count": 125,
   "metadata": {},
   "outputs": [],
   "source": [
    "def get_query_date():\n",
    "\n",
    "    user_input = input(\"Please enter the date you want to search (YYYY-MM-DD)\")\n",
    "    \n",
    "    \n",
    "    if user_input == \"\":\n",
    "\n",
    "        ct = datetime.datetime.now()\n",
    "        YYYY = ct.strftime(\"%Y\")\n",
    "        MM = ct.strftime(\"%m\")\n",
    "        DD = ct.strftime(\"%d\")\n",
    "        return f\"{YYYY}-{MM}-{DD}\"\n",
    "\n",
    "    else:\n",
    "        \n",
    "        return user_input\n",
    "    \n",
    "\n",
    "QUERY_DATE = get_query_date()"
   ]
  },
  {
   "cell_type": "code",
   "execution_count": 126,
   "metadata": {},
   "outputs": [],
   "source": [
    "QUERY_URLs = {\n",
    "    \"ALL\": URL[\"PREFIX\"] + URL[\"DATE\"] + QUERY_DATE +URL[\"LANG\"] + URL[\"DEFAULT_LANG\"],\n",
    "    \"Cargo\": {\n",
    "        \"Arrival\": URL[\"PREFIX\"] + URL[\"DATE\"] + QUERY_DATE + URL[\"CARGO\"] + \"true\" + URL[\"ARRIVAL\"] + \"true\" + URL[\"LANG\"] + URL[\"DEFAULT_LANG\"],\n",
    "        \"Departure\": URL[\"PREFIX\"] + URL[\"DATE\"] + QUERY_DATE + URL[\"CARGO\"] + \"true\" + URL[\"ARRIVAL\"] + \"false\" + URL[\"LANG\"] + URL[\"DEFAULT_LANG\"]\n",
    "    },\n",
    "    \"Passenger\": {\n",
    "        \"Arrival\": URL[\"PREFIX\"] + URL[\"DATE\"] + QUERY_DATE + URL[\"CARGO\"] + \"false\" + URL[\"ARRIVAL\"] + \"true\" + URL[\"LANG\"] + URL[\"DEFAULT_LANG\"],\n",
    "        \"Departure\":URL[\"PREFIX\"] + URL[\"DATE\"] + QUERY_DATE + URL[\"CARGO\"] + \"false\" + URL[\"ARRIVAL\"] + \"false\" + URL[\"LANG\"] + URL[\"DEFAULT_LANG\"]\n",
    "    }\n",
    "}"
   ]
  },
  {
   "cell_type": "code",
   "execution_count": 127,
   "metadata": {},
   "outputs": [],
   "source": [
    "def check_data_length(input_data):\n",
    "\n",
    "    length = len(input_data)\n",
    "\n",
    "    return length"
   ]
  },
  {
   "cell_type": "code",
   "execution_count": 128,
   "metadata": {},
   "outputs": [],
   "source": [
    "def exportJSONtoFile(FileName, data):\n",
    "    \n",
    "    try:\n",
    "        with open (str(FileName) + \".json\" , \"w\") as outfile:\n",
    "            outfile.write(str(json.dumps(data, sort_keys = True, indent = 4)))\n",
    "            return True\n",
    "    \n",
    "    except:\n",
    "        \n",
    "        return False\n"
   ]
  },
  {
   "cell_type": "code",
   "execution_count": 129,
   "metadata": {},
   "outputs": [],
   "source": [
    "def printData():\n",
    "            # file level 3\n",
    "    os.chdir(path + '/data/' + QUERY_DATE + '/Flight')\n",
    "\n",
    "    with open('ALL_Flight.json') as fp:\n",
    "        dataALL = json.load(fp)\n",
    "\n",
    "    with open('Cargo_Arrival.json') as fp:\n",
    "        dataCargoA = json.load(fp)\n",
    "\n",
    "    with open('Cargo_Departure.json') as fp:\n",
    "        dataCargoD = json.load(fp)\n",
    "\n",
    "    with open('Passenger_Arrival.json') as fp:\n",
    "        dataPassengerA = json.load(fp)\n",
    "\n",
    "    with open('Passenger_Departure.json') as fp:\n",
    "        dataPassengerD = json.load(fp)\n",
    "           \n",
    "    print(\"ALL_Flight: \" + str(dataALL))\n",
    "    print(\"Cargo_Arrival: \" + str(dataCargoA) + \" Cargo_Departure: \" + str(dataCargoD))\n",
    "    print(\"Passenger_Arrival: \" + str(dataPassengerA) + \" Passenger_Departure: \" + str(dataPassengerD))"
   ]
  },
  {
   "cell_type": "code",
   "execution_count": 130,
   "metadata": {},
   "outputs": [],
   "source": [
    "def  ifExistedFalse():\n",
    "        # --------- check length --------- #\n",
    "        print(\"will get all data\")\n",
    "        res = requests.get(QUERY_URLs[\"ALL\"])\n",
    "        ALL_Flight = check_data_length(res.json()[0]['list'])\n",
    "\n",
    "        res = requests.get(QUERY_URLs[\"Cargo\"][\"Departure\"])\n",
    "        Cargo_Departure = check_data_length(res.json()[0]['list'])\n",
    "        \n",
    "        res = requests.get(QUERY_URLs[\"Cargo\"][\"Arrival\"])\n",
    "        Cargo_Arrival = check_data_length(res.json()[0]['list'])\n",
    "\n",
    "        res = requests.get(QUERY_URLs[\"Passenger\"][\"Departure\"])\n",
    "        Passenger_Departure = check_data_length(res.json()[0]['list'])\n",
    "\n",
    "        res = requests.get(QUERY_URLs[\"Passenger\"][\"Arrival\"])\n",
    "        Passenger_Arrival = check_data_length(res.json()[0]['list'])\n",
    "        # --------- check length --------- #\n",
    "\n",
    "\n",
    "        # file level3\n",
    "        os.mkdir(QUERY_DATE) # file name = QUERY_DATE\n",
    "        os.chdir(path + '/data/' + QUERY_DATE)\n",
    "        \n",
    "        res = requests.get(QUERY_URLs['ALL'])\n",
    "        exportJSONtoFile(\"ALL\", res.json())\n",
    "\n",
    "        exportJSONtoFile(\"URL\", QUERY_URLs)\n",
    "\n",
    "\n",
    "\n",
    "        os.mkdir('Flight') # file name = QUERY_DATE\n",
    "        os.chdir(path + '/data/' + QUERY_DATE + '/Flight')\n",
    "\n",
    "        # save\n",
    "\n",
    "        exportJSONtoFile(\"ALL_Flight\", ALL_Flight)\n",
    "        exportJSONtoFile(\"Cargo_Arrival\",Cargo_Arrival)\n",
    "        exportJSONtoFile(\"Cargo_Departure\", Cargo_Departure)\n",
    "        exportJSONtoFile(\"Passenger_Arrival\", Passenger_Arrival)\n",
    "        exportJSONtoFile(\"Passenger_Departure\", Passenger_Departure)\n",
    "\n",
    "        printData() # -> print data"
   ]
  },
  {
   "cell_type": "code",
   "execution_count": 132,
   "metadata": {},
   "outputs": [],
   "source": [
    "def userChoice():\n",
    "    userInput = input(\"Do you want to get latest data? (Y for Yes / N for No)\")\n",
    "\n",
    "    if userInput.upper() == \"Y\":\n",
    "\n",
    "        # --------- check length --------- #\n",
    "        print(\"will get all data\")\n",
    "        res = requests.get(QUERY_URLs[\"ALL\"])\n",
    "        ALL_Flight = check_data_length(res.json()[0]['list'])\n",
    "\n",
    "        res = requests.get(QUERY_URLs[\"Cargo\"][\"Departure\"])\n",
    "        Cargo_Departure = check_data_length(res.json()[0]['list'])\n",
    "        \n",
    "        res = requests.get(QUERY_URLs[\"Cargo\"][\"Arrival\"])\n",
    "        Cargo_Arrival = check_data_length(res.json()[0]['list'])\n",
    "\n",
    "        res = requests.get(QUERY_URLs[\"Passenger\"][\"Departure\"])\n",
    "        Passenger_Departure = check_data_length(res.json()[0]['list'])\n",
    "\n",
    "        res = requests.get(QUERY_URLs[\"Passenger\"][\"Arrival\"])\n",
    "        Passenger_Arrival = check_data_length(res.json()[0]['list'])\n",
    "        # --------- check length --------- #\n",
    "\n",
    "\n",
    "        os.chdir(path + '/data/' + QUERY_DATE)\n",
    "        \n",
    "        res = requests.get(QUERY_URLs['ALL'])\n",
    "        exportJSONtoFile(\"ALL\", res.json())\n",
    "\n",
    "        exportJSONtoFile(\"URL\", QUERY_URLs)\n",
    "\n",
    "        os.chdir(path + '/data/' + QUERY_DATE + '/Flight')\n",
    "\n",
    "        # save\n",
    "\n",
    "        exportJSONtoFile(\"ALL_Flight\", ALL_Flight)\n",
    "        exportJSONtoFile(\"Cargo_Arrival\",Cargo_Arrival)\n",
    "        exportJSONtoFile(\"Cargo_Departure\", Cargo_Departure)\n",
    "        exportJSONtoFile(\"Passenger_Arrival\", Passenger_Arrival)\n",
    "        exportJSONtoFile(\"Passenger_Departure\", Passenger_Departure)\n",
    "\n",
    "        printData()\n",
    "\n",
    "    if userInput.upper() == \"N\":\n",
    "        printData()"
   ]
  },
  {
   "cell_type": "code",
   "execution_count": 133,
   "metadata": {},
   "outputs": [],
   "source": [
    "def check_file_exist(): # inside file_identify  file level 2 2 \n",
    "\n",
    " \n",
    "    isFolderExisted = os.path.exists(QUERY_DATE) # folder used to save json\n",
    "\n",
    "    if isFolderExisted == True:\n",
    "        \n",
    "        # printData()\n",
    "        userChoice()\n",
    "\n",
    "    # if isExisted == False:\n",
    "    else:\n",
    "        \n",
    "        ifExistedFalse()\n",
    "        \n"
   ]
  },
  {
   "cell_type": "code",
   "execution_count": 134,
   "metadata": {},
   "outputs": [],
   "source": [
    "def fileIsExist(): # file level 1 1\n",
    "\n",
    "    os.chdir(path)# -> get to file \n",
    "    isExist = os.path.exists('data') # folder that save json\n",
    "\n",
    "    if isExist == True:\n",
    "\n",
    "        os.chdir(path + '/data')\n",
    "        check_file_exist() \n",
    "\n",
    "    if isExist == False:\n",
    "        \n",
    "        os.mkdir('data')\n",
    "        os.chdir(path + '/data')\n",
    "        check_file_exist()\n"
   ]
  },
  {
   "cell_type": "code",
   "execution_count": 135,
   "metadata": {},
   "outputs": [
    {
     "name": "stdout",
     "output_type": "stream",
     "text": [
      "will get all data\n",
      "ALL_Flight: 95\n",
      "Cargo_Arrival: 95 Cargo_Departure: 108\n",
      "Passenger_Arrival: 198 Passenger_Departure: 203\n"
     ]
    }
   ],
   "source": [
    "fileIsExist()"
   ]
  }
 ],
 "metadata": {
  "kernelspec": {
   "display_name": "Python 3 (ipykernel)",
   "language": "python",
   "name": "python3"
  },
  "language_info": {
   "codemirror_mode": {
    "name": "ipython",
    "version": 3
   },
   "file_extension": ".py",
   "mimetype": "text/x-python",
   "name": "python",
   "nbconvert_exporter": "python",
   "pygments_lexer": "ipython3",
   "version": "3.8.10"
  },
  "vscode": {
   "interpreter": {
    "hash": "00125c6e5922b1d36e973e80bd3f7977debb1f35a6d2102f4b9bdb0261afff1c"
   }
  }
 },
 "nbformat": 4,
 "nbformat_minor": 2
}
